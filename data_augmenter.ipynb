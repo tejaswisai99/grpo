{
 "cells": [
  {
   "cell_type": "code",
   "id": "initial_id",
   "metadata": {
    "collapsed": true,
    "ExecuteTime": {
     "end_time": "2025-08-28T21:40:06.756054Z",
     "start_time": "2025-08-28T21:40:06.722407Z"
    }
   },
   "source": [
    "import requests\n",
    "import json"
   ],
   "outputs": [],
   "execution_count": 4
  },
  {
   "metadata": {
    "ExecuteTime": {
     "end_time": "2025-08-28T21:40:07.752143Z",
     "start_time": "2025-08-28T21:40:06.760068Z"
    }
   },
   "cell_type": "code",
   "source": [
    "path = 'D:/WebShop/baseline_models/data/il_trajs_finalized_images/il_trajs_finalized_images.jsonl'\n",
    "out_file = 'D:/WebShop/baseline_models/data/trajs_without_images.jsonl'\n",
    "with open(path, 'r', encoding='utf-8') as f, open(out_file, 'w', encoding='utf-8') as o:\n",
    "    for line in f:\n",
    "        record = json.loads(line)\n",
    "        record.pop(\"images\",None)\n",
    "        o.write(json.dumps(record, ensure_ascii=False)+\"\\n\")"
   ],
   "id": "2654ddb5a4084912",
   "outputs": [],
   "execution_count": 5
  },
  {
   "metadata": {
    "ExecuteTime": {
     "end_time": "2025-08-28T21:40:07.757906Z",
     "start_time": "2025-08-28T21:40:07.755659Z"
    }
   },
   "cell_type": "code",
   "source": "system_prompt = \"\"\"You are ChatGPT, a large language model trained by OpenAI.\\nKnowledge cutoff: 2024-06\\nCurrent date: 2025-08-28\\n\\nReasoning: None\\n\\n# Valid channels: final. Channel must be included for every message.\\nNever output analysis or commentary; respond only in the final channel.\"\"\"",
   "id": "d34e288de236583",
   "outputs": [],
   "execution_count": 6
  },
  {
   "metadata": {
    "ExecuteTime": {
     "end_time": "2025-08-28T21:40:07.766423Z",
     "start_time": "2025-08-28T21:40:07.763196Z"
    }
   },
   "cell_type": "code",
   "source": [
    "webshop_info = \"\"\"You will be working on augmenting the dataset for human trajectories on Webshop.\n",
    "Webshop is a simulated e-commerce website developed for training agents on RL tasks. It has a instruction/goal on which humans and agents act. Based on the instruction, a final product is purchased and a reward is given. The given reward will be 1, when the goal's categories, price constraints, and features match exactly with that of the product bought at the end of the trajectory.\n",
    "You'll be given the human trajectory in the following format, {\"step\":\"step-number\",\"goal\":\"instruction for which human is working on\",\"state\": \"the current state of the webpage, dom element text etc\",\"actions_available\": \"all the actions that are available, like click[an element],search[something] etc\",\"history\":\"list of all the actions taken up until that step.\",\"action_chosen\": \"The actual action chosen by the human, we assume that this action is taken based on the history & current state.\",\"action_meaning\": \"what the action means if we put the correct mmid in the action\",\"next_state\": \"The state of the agent, i.e. webpage after the action is taken\"}.\n",
    " For the json provided, you will have to generate 4 actions 1. plan_action, 2. thought_action, 3.env_action, 4.explantation_action. \"plan_action\" represents the plan to achieve the goal, the plan action keeps changing on the basis of current \"state\". It is to help the agent take next set of actions. Generate this by looking at current state, and the history provided to you. \"thought_action\" is kind of like a reasoning step, you need to look at the action chosen by human and arrive at their thought process, looking at the current state, history and plan, and present it in this field. Speak in the future tense as if you were thinking to take the action already taken by the human. This is you guessing why human took that action based on the value in the \"action_meaning\" field in the input from human's perspective. \"env_action\" the action taken by the user to interact with the RL environment, it's just \"action_meaning\" in the input. \"expl_action\", looking at the current_state, history, action_taken, and the next_state agent went into, you need to explain what happened because we took that action. Note that you need to generate all these 4 fields for already existing trajectories by Humans. If you see click[buy now], that means it's the end of the trajectory. The first state will always be a blank page with just an instruction and a search bar in it. Generally humans search for something and if the results are not up to the mark, they may return to the home page. If we are on homepage, the action space is always empty. You can assume, we must always search some keywords. You should always speak in the first person in all the action generations. Keep the length of various actions to less than 30 words each.\n",
    " The output should be a valid JSON with exactly 4 keys and 4 values as shown below. Expected output format: {\"plan\": \"<plan_action>\",\"thought\":\"<thought_action>\",\"env\":\"<env_action>\",\"expl\": \"<expl_action>\"}.\"\"\""
   ],
   "id": "da5b6a1a400ac1a3",
   "outputs": [],
   "execution_count": 7
  },
  {
   "metadata": {
    "ExecuteTime": {
     "end_time": "2025-08-28T21:40:07.772573Z",
     "start_time": "2025-08-28T21:40:07.770428Z"
    }
   },
   "cell_type": "code",
   "source": "",
   "id": "625fd3fe7ed51b2a",
   "outputs": [],
   "execution_count": null
  },
  {
   "metadata": {
    "ExecuteTime": {
     "end_time": "2025-08-28T21:40:07.781884Z",
     "start_time": "2025-08-28T21:40:07.778884Z"
    }
   },
   "cell_type": "code",
   "source": "system_prompt = system_prompt + webshop_info",
   "id": "a70058a0ff9c4617",
   "outputs": [],
   "execution_count": 8
  },
  {
   "metadata": {
    "ExecuteTime": {
     "end_time": "2025-08-28T21:40:07.791662Z",
     "start_time": "2025-08-28T21:40:07.788315Z"
    }
   },
   "cell_type": "code",
   "source": [
    "url = \"http://localhost:8001/v1/chat/completions\"\n",
    "headers = {\"Content-Type\": \"application/json\"}\n",
    "\n",
    "def convert_to_agent_q(step_prompt):\n",
    "    payload = {\n",
    "        \"model\": \"gpt-oss-20b\",  # or whatever you named the model\n",
    "        \"messages\": [\n",
    "            {\"role\": \"system\", \"content\": system_prompt},\n",
    "            {\"role\": \"user\", \"content\": str(step_prompt)}\n",
    "        ],\n",
    "        \"max_tokens\": 40000,\n",
    "        \"temperature\": 0.7,\n",
    "        \"response_format\": {\"type\":\"json_object\"},\n",
    "        \"stream\": False  # this ensures you get a JSON-only response instead of an SSE stream\n",
    "    }\n",
    "    response = requests.post(url, headers=headers, data=json.dumps(payload))\n",
    "    print(response.json())\n",
    "    if response.status_code==200:\n",
    "        return response.json()['choices'][0]['message']['content']\n",
    "    else:\n",
    "        return None"
   ],
   "id": "371820d890bb0ffd",
   "outputs": [],
   "execution_count": 9
  },
  {
   "metadata": {
    "ExecuteTime": {
     "end_time": "2025-08-28T21:40:07.797815Z",
     "start_time": "2025-08-28T21:40:07.794668Z"
    }
   },
   "cell_type": "code",
   "source": [
    "def prepare_dataset(current_record):\n",
    "    record_value = []\n",
    "    actions = current_record['actions']\n",
    "    states = current_record['states']\n",
    "    available_actions = current_record['available_actions']\n",
    "    actions_translate = current_record['actions_translate']\n",
    "    instruction = current_record['states'][0].split('Instruction: \\n')[1].split('\\n')[0]\n",
    "    i=0\n",
    "    for i in range(len(actions)-1):\n",
    "        step = {'step': i + 1,'goal': instruction, 'state': states[i], 'actions_available': available_actions[i], 'history': actions_translate[:i], 'action_chosen': actions[i], 'action_meaning': actions_translate[i],'next_state': states[i+1]}\n",
    "        action_op = convert_to_agent_q(step)\n",
    "        record_value.append({'input':step,'output':action_op})\n",
    "    i=i+1\n",
    "    step = {\n",
    "        'step': i+1,\n",
    "        'goal': instruction,\n",
    "        'state': states[i],\n",
    "        'actions_available': available_actions[i],\n",
    "        'action_chosen': actions[i],\n",
    "        'action_meaning': actions_translate[i],\n",
    "        'next_state': \"GOAL_COMPLETED, TERMINAL_STATE, REWARD_FOUND.\"\n",
    "    }\n",
    "    action_op = convert_to_agent_q(step)\n",
    "    record_value.append({'input':'','output':action_op})\n",
    "    return record_value"
   ],
   "id": "1ab20f2a11e15f20",
   "outputs": [],
   "execution_count": 10
  },
  {
   "metadata": {
    "ExecuteTime": {
     "end_time": "2025-08-28T21:41:12.531087Z",
     "start_time": "2025-08-28T21:40:07.803821Z"
    }
   },
   "cell_type": "code",
   "source": [
    "record = {}\n",
    "human_benchmark_file = \"D:/WebShop/baseline_models/data/grpo.jsonl\"\n",
    "with open(out_file, 'r', encoding='utf-8') as f, open(human_benchmark_file, 'w', encoding='utf-8') as o:\n",
    "    for line in f:\n",
    "        record = json.loads(line)\n",
    "        output = prepare_dataset(record)\n",
    "        #print(output)\n",
    "        o.write(json.dumps(output, ensure_ascii=False)+\"\\n\")\n",
    "        break"
   ],
   "id": "acaec86c9432981d",
   "outputs": [
    {
     "name": "stdout",
     "output_type": "stream",
     "text": [
      "{'choices': [{'finish_reason': 'stop', 'index': 0, 'message': {'role': 'assistant', 'content': '{\"plan\":\"I will browse the results for a 32\\u202fGB high‑speed USB, filter by price under $50, then select the best match.\",\"thought\":\"I need a fast 32\\u202fGB flash drive for under $50, so I will look at the first page of results and choose the cheapest high‑speed option.\",\"env\":\"search[32 gb high speed usb flash drive ]\",\"expl\":\"The search returns many 32\\u202fGB USB drives; the page shows several priced under $50 and offers options to go next.\"}'}}], 'created': 1756417221, 'model': 'gpt-oss-20b', 'system_fingerprint': 'b6301-da54f9f1', 'object': 'chat.completion', 'usage': {'completion_tokens': 111, 'prompt_tokens': 1549, 'total_tokens': 1660}, 'id': 'chatcmpl-q5Nx95jLFDE2WS8e2JEB2eFQc7aVyDoA', 'timings': {'prompt_n': 1549, 'prompt_ms': 6050.257, 'prompt_per_token_ms': 3.905911555842479, 'prompt_per_second': 256.02218219821077, 'predicted_n': 111, 'predicted_ms': 5436.349, 'predicted_per_token_ms': 48.97611711711712, 'predicted_per_second': 20.418115172517435}}\n",
      "{'choices': [{'finish_reason': 'stop', 'index': 0, 'message': {'role': 'assistant', 'content': '{\"plan\":\"I will view the product details and then proceed to buy it, as it meets the size and price criteria.\",\"thought\":\"I think the human saw the V7 32GB drive is under $50 and wants to purchase it.\",\"env\":\"click[item - v7 32gb usb 3.1 flash drive - 32 gb - usb 3.1-120 mb/s read speed - black]\",\"expl\":\"The page shows the V7 32GB USB 3.1 flash drive with price $11.59, confirming it matches the goal and allows buying.\"}'}}], 'created': 1756417237, 'model': 'gpt-oss-20b', 'system_fingerprint': 'b6301-da54f9f1', 'object': 'chat.completion', 'usage': {'completion_tokens': 122, 'prompt_tokens': 2124, 'total_tokens': 2246}, 'id': 'chatcmpl-CgELowQAcltilbZnza9ybuE09A5HuKwa', 'timings': {'prompt_n': 2124, 'prompt_ms': 8757.77, 'prompt_per_token_ms': 4.123243879472693, 'prompt_per_second': 242.5274927293135, 'predicted_n': 122, 'predicted_ms': 5647.702, 'predicted_per_token_ms': 46.2926393442623, 'predicted_per_second': 21.60170632232366}}\n",
      "{'choices': [{'finish_reason': 'stop', 'index': 0, 'message': {'role': 'assistant', 'content': '{\"plan\":\"I will open the description next to confirm details\",\"thought\":\"I think the user wants to see more specs before deciding\",\"env\":\"click[description]\",\"expl\":\"The description tab opens, showing product details and confirming it meets the requirements.\"}'}}], 'created': 1756417247, 'model': 'gpt-oss-20b', 'system_fingerprint': 'b6301-da54f9f1', 'object': 'chat.completion', 'usage': {'completion_tokens': 53, 'prompt_tokens': 1112, 'total_tokens': 1165}, 'id': 'chatcmpl-5WB7HCdz23bAhSmN30jgez2VxoHacT1S', 'timings': {'prompt_n': 1112, 'prompt_ms': 5466.149, 'prompt_per_token_ms': 4.915601618705036, 'prompt_per_second': 203.43389834415416, 'predicted_n': 53, 'predicted_ms': 2498.619, 'predicted_per_token_ms': 47.143754716981135, 'predicted_per_second': 21.21171735266561}}\n",
      "{'choices': [{'finish_reason': 'stop', 'index': 0, 'message': {'role': 'assistant', 'content': '{\"plan\":\"I will click the \\'Buy Now\\' button to purchase this flash drive.\",\"thought\":\"I will try to purchase the product because it\\'s exactly matching the requirement and after reviewing the next step I would see it on the product page with full details.\",\"env\":\"click[<\\xa0prev]\\xa0?\",\"expl\":\"We\\xa0…\"}'}}], 'created': 1756417255, 'model': 'gpt-oss-20b', 'system_fingerprint': 'b6301-da54f9f1', 'object': 'chat.completion', 'usage': {'completion_tokens': 70, 'prompt_tokens': 1098, 'total_tokens': 1168}, 'id': 'chatcmpl-4OpbiFS1JjvenDzvLPQ8IIvf4K7dqcek', 'timings': {'prompt_n': 348, 'prompt_ms': 2025.191, 'prompt_per_token_ms': 5.819514367816092, 'prompt_per_second': 171.83564414418194, 'predicted_n': 70, 'predicted_ms': 3371.092, 'predicted_per_token_ms': 48.158457142857145, 'predicted_per_second': 20.764784823434066}}\n",
      "{'choices': [{'finish_reason': 'stop', 'index': 0, 'message': {'role': 'assistant', 'content': '{\"plan\":\"I will review the product description to confirm specs and price before deciding to buy or search again.\",\"thought\":\"I want to see the full description to ensure it meets the high speed requirement and 32GB size, so I click on description.\",\"env\":\"click[description]\",\"expl\":\"The description tab opens, showing manufacturer details and confirming the 32GB capacity and 120\\u202fMB/s read speed, but no price info appears here.\"}'}}], 'created': 1756417263, 'model': 'gpt-oss-20b', 'system_fingerprint': 'b6301-da54f9f1', 'object': 'chat.completion', 'usage': {'completion_tokens': 93, 'prompt_tokens': 1172, 'total_tokens': 1265}, 'id': 'chatcmpl-AIsz0vubG83VVnyxJsLmufRPNRTOb0Uj', 'timings': {'prompt_n': 422, 'prompt_ms': 2099.67, 'prompt_per_token_ms': 4.975521327014218, 'prompt_per_second': 200.98396414674687, 'predicted_n': 93, 'predicted_ms': 4508.13, 'predicted_per_token_ms': 48.47451612903226, 'predicted_per_second': 20.629396224155023}}\n"
     ]
    },
    {
     "ename": "KeyboardInterrupt",
     "evalue": "",
     "output_type": "error",
     "traceback": [
      "\u001B[31m---------------------------------------------------------------------------\u001B[39m",
      "\u001B[31mKeyboardInterrupt\u001B[39m                         Traceback (most recent call last)",
      "\u001B[36mCell\u001B[39m\u001B[36m \u001B[39m\u001B[32mIn[11]\u001B[39m\u001B[32m, line 6\u001B[39m\n\u001B[32m      4\u001B[39m \u001B[38;5;28;01mfor\u001B[39;00m line \u001B[38;5;129;01min\u001B[39;00m f:\n\u001B[32m      5\u001B[39m     record = json.loads(line)\n\u001B[32m----> \u001B[39m\u001B[32m6\u001B[39m     output = \u001B[43mprepare_dataset\u001B[49m\u001B[43m(\u001B[49m\u001B[43mrecord\u001B[49m\u001B[43m)\u001B[49m\n\u001B[32m      7\u001B[39m     \u001B[38;5;66;03m#print(output)\u001B[39;00m\n\u001B[32m      8\u001B[39m     o.write(json.dumps(output, ensure_ascii=\u001B[38;5;28;01mFalse\u001B[39;00m)+\u001B[33m\"\u001B[39m\u001B[38;5;130;01m\\n\u001B[39;00m\u001B[33m\"\u001B[39m)\n",
      "\u001B[36mCell\u001B[39m\u001B[36m \u001B[39m\u001B[32mIn[10]\u001B[39m\u001B[32m, line 11\u001B[39m, in \u001B[36mprepare_dataset\u001B[39m\u001B[34m(current_record)\u001B[39m\n\u001B[32m      9\u001B[39m \u001B[38;5;28;01mfor\u001B[39;00m i \u001B[38;5;129;01min\u001B[39;00m \u001B[38;5;28mrange\u001B[39m(\u001B[38;5;28mlen\u001B[39m(actions)-\u001B[32m1\u001B[39m):\n\u001B[32m     10\u001B[39m     step = {\u001B[33m'\u001B[39m\u001B[33mstep\u001B[39m\u001B[33m'\u001B[39m: i + \u001B[32m1\u001B[39m,\u001B[33m'\u001B[39m\u001B[33mgoal\u001B[39m\u001B[33m'\u001B[39m: instruction, \u001B[33m'\u001B[39m\u001B[33mstate\u001B[39m\u001B[33m'\u001B[39m: states[i], \u001B[33m'\u001B[39m\u001B[33mactions_available\u001B[39m\u001B[33m'\u001B[39m: available_actions[i], \u001B[33m'\u001B[39m\u001B[33mhistory\u001B[39m\u001B[33m'\u001B[39m: actions_translate[:i], \u001B[33m'\u001B[39m\u001B[33maction_chosen\u001B[39m\u001B[33m'\u001B[39m: actions[i], \u001B[33m'\u001B[39m\u001B[33maction_meaning\u001B[39m\u001B[33m'\u001B[39m: actions_translate[i],\u001B[33m'\u001B[39m\u001B[33mnext_state\u001B[39m\u001B[33m'\u001B[39m: states[i+\u001B[32m1\u001B[39m]}\n\u001B[32m---> \u001B[39m\u001B[32m11\u001B[39m     action_op = \u001B[43mconvert_to_agent_q\u001B[49m\u001B[43m(\u001B[49m\u001B[43mstep\u001B[49m\u001B[43m)\u001B[49m\n\u001B[32m     12\u001B[39m     record_value.append({\u001B[33m'\u001B[39m\u001B[33minput\u001B[39m\u001B[33m'\u001B[39m:step,\u001B[33m'\u001B[39m\u001B[33moutput\u001B[39m\u001B[33m'\u001B[39m:action_op})\n\u001B[32m     13\u001B[39m i=i+\u001B[32m1\u001B[39m\n",
      "\u001B[36mCell\u001B[39m\u001B[36m \u001B[39m\u001B[32mIn[9]\u001B[39m\u001B[32m, line 16\u001B[39m, in \u001B[36mconvert_to_agent_q\u001B[39m\u001B[34m(step_prompt)\u001B[39m\n\u001B[32m      4\u001B[39m \u001B[38;5;28;01mdef\u001B[39;00m\u001B[38;5;250m \u001B[39m\u001B[34mconvert_to_agent_q\u001B[39m(step_prompt):\n\u001B[32m      5\u001B[39m     payload = {\n\u001B[32m      6\u001B[39m         \u001B[33m\"\u001B[39m\u001B[33mmodel\u001B[39m\u001B[33m\"\u001B[39m: \u001B[33m\"\u001B[39m\u001B[33mgpt-oss-20b\u001B[39m\u001B[33m\"\u001B[39m,  \u001B[38;5;66;03m# or whatever you named the model\u001B[39;00m\n\u001B[32m      7\u001B[39m         \u001B[33m\"\u001B[39m\u001B[33mmessages\u001B[39m\u001B[33m\"\u001B[39m: [\n\u001B[32m   (...)\u001B[39m\u001B[32m     14\u001B[39m         \u001B[33m\"\u001B[39m\u001B[33mstream\u001B[39m\u001B[33m\"\u001B[39m: \u001B[38;5;28;01mFalse\u001B[39;00m  \u001B[38;5;66;03m# this ensures you get a JSON-only response instead of an SSE stream\u001B[39;00m\n\u001B[32m     15\u001B[39m     }\n\u001B[32m---> \u001B[39m\u001B[32m16\u001B[39m     response = \u001B[43mrequests\u001B[49m\u001B[43m.\u001B[49m\u001B[43mpost\u001B[49m\u001B[43m(\u001B[49m\u001B[43murl\u001B[49m\u001B[43m,\u001B[49m\u001B[43m \u001B[49m\u001B[43mheaders\u001B[49m\u001B[43m=\u001B[49m\u001B[43mheaders\u001B[49m\u001B[43m,\u001B[49m\u001B[43m \u001B[49m\u001B[43mdata\u001B[49m\u001B[43m=\u001B[49m\u001B[43mjson\u001B[49m\u001B[43m.\u001B[49m\u001B[43mdumps\u001B[49m\u001B[43m(\u001B[49m\u001B[43mpayload\u001B[49m\u001B[43m)\u001B[49m\u001B[43m)\u001B[49m\n\u001B[32m     17\u001B[39m     \u001B[38;5;28mprint\u001B[39m(response.json())\n\u001B[32m     18\u001B[39m     \u001B[38;5;28;01mif\u001B[39;00m response.status_code==\u001B[32m200\u001B[39m:\n",
      "\u001B[36mFile \u001B[39m\u001B[32mD:\\iisc_project\\grpo\\.venv\\Lib\\site-packages\\requests\\api.py:115\u001B[39m, in \u001B[36mpost\u001B[39m\u001B[34m(url, data, json, **kwargs)\u001B[39m\n\u001B[32m    103\u001B[39m \u001B[38;5;28;01mdef\u001B[39;00m\u001B[38;5;250m \u001B[39m\u001B[34mpost\u001B[39m(url, data=\u001B[38;5;28;01mNone\u001B[39;00m, json=\u001B[38;5;28;01mNone\u001B[39;00m, **kwargs):\n\u001B[32m    104\u001B[39m \u001B[38;5;250m    \u001B[39m\u001B[33mr\u001B[39m\u001B[33;03m\"\"\"Sends a POST request.\u001B[39;00m\n\u001B[32m    105\u001B[39m \n\u001B[32m    106\u001B[39m \u001B[33;03m    :param url: URL for the new :class:`Request` object.\u001B[39;00m\n\u001B[32m   (...)\u001B[39m\u001B[32m    112\u001B[39m \u001B[33;03m    :rtype: requests.Response\u001B[39;00m\n\u001B[32m    113\u001B[39m \u001B[33;03m    \"\"\"\u001B[39;00m\n\u001B[32m--> \u001B[39m\u001B[32m115\u001B[39m     \u001B[38;5;28;01mreturn\u001B[39;00m \u001B[43mrequest\u001B[49m\u001B[43m(\u001B[49m\u001B[33;43m\"\u001B[39;49m\u001B[33;43mpost\u001B[39;49m\u001B[33;43m\"\u001B[39;49m\u001B[43m,\u001B[49m\u001B[43m \u001B[49m\u001B[43murl\u001B[49m\u001B[43m,\u001B[49m\u001B[43m \u001B[49m\u001B[43mdata\u001B[49m\u001B[43m=\u001B[49m\u001B[43mdata\u001B[49m\u001B[43m,\u001B[49m\u001B[43m \u001B[49m\u001B[43mjson\u001B[49m\u001B[43m=\u001B[49m\u001B[43mjson\u001B[49m\u001B[43m,\u001B[49m\u001B[43m \u001B[49m\u001B[43m*\u001B[49m\u001B[43m*\u001B[49m\u001B[43mkwargs\u001B[49m\u001B[43m)\u001B[49m\n",
      "\u001B[36mFile \u001B[39m\u001B[32mD:\\iisc_project\\grpo\\.venv\\Lib\\site-packages\\requests\\api.py:59\u001B[39m, in \u001B[36mrequest\u001B[39m\u001B[34m(method, url, **kwargs)\u001B[39m\n\u001B[32m     55\u001B[39m \u001B[38;5;66;03m# By using the 'with' statement we are sure the session is closed, thus we\u001B[39;00m\n\u001B[32m     56\u001B[39m \u001B[38;5;66;03m# avoid leaving sockets open which can trigger a ResourceWarning in some\u001B[39;00m\n\u001B[32m     57\u001B[39m \u001B[38;5;66;03m# cases, and look like a memory leak in others.\u001B[39;00m\n\u001B[32m     58\u001B[39m \u001B[38;5;28;01mwith\u001B[39;00m sessions.Session() \u001B[38;5;28;01mas\u001B[39;00m session:\n\u001B[32m---> \u001B[39m\u001B[32m59\u001B[39m     \u001B[38;5;28;01mreturn\u001B[39;00m \u001B[43msession\u001B[49m\u001B[43m.\u001B[49m\u001B[43mrequest\u001B[49m\u001B[43m(\u001B[49m\u001B[43mmethod\u001B[49m\u001B[43m=\u001B[49m\u001B[43mmethod\u001B[49m\u001B[43m,\u001B[49m\u001B[43m \u001B[49m\u001B[43murl\u001B[49m\u001B[43m=\u001B[49m\u001B[43murl\u001B[49m\u001B[43m,\u001B[49m\u001B[43m \u001B[49m\u001B[43m*\u001B[49m\u001B[43m*\u001B[49m\u001B[43mkwargs\u001B[49m\u001B[43m)\u001B[49m\n",
      "\u001B[36mFile \u001B[39m\u001B[32mD:\\iisc_project\\grpo\\.venv\\Lib\\site-packages\\requests\\sessions.py:589\u001B[39m, in \u001B[36mSession.request\u001B[39m\u001B[34m(self, method, url, params, data, headers, cookies, files, auth, timeout, allow_redirects, proxies, hooks, stream, verify, cert, json)\u001B[39m\n\u001B[32m    584\u001B[39m send_kwargs = {\n\u001B[32m    585\u001B[39m     \u001B[33m\"\u001B[39m\u001B[33mtimeout\u001B[39m\u001B[33m\"\u001B[39m: timeout,\n\u001B[32m    586\u001B[39m     \u001B[33m\"\u001B[39m\u001B[33mallow_redirects\u001B[39m\u001B[33m\"\u001B[39m: allow_redirects,\n\u001B[32m    587\u001B[39m }\n\u001B[32m    588\u001B[39m send_kwargs.update(settings)\n\u001B[32m--> \u001B[39m\u001B[32m589\u001B[39m resp = \u001B[38;5;28;43mself\u001B[39;49m\u001B[43m.\u001B[49m\u001B[43msend\u001B[49m\u001B[43m(\u001B[49m\u001B[43mprep\u001B[49m\u001B[43m,\u001B[49m\u001B[43m \u001B[49m\u001B[43m*\u001B[49m\u001B[43m*\u001B[49m\u001B[43msend_kwargs\u001B[49m\u001B[43m)\u001B[49m\n\u001B[32m    591\u001B[39m \u001B[38;5;28;01mreturn\u001B[39;00m resp\n",
      "\u001B[36mFile \u001B[39m\u001B[32mD:\\iisc_project\\grpo\\.venv\\Lib\\site-packages\\requests\\sessions.py:703\u001B[39m, in \u001B[36mSession.send\u001B[39m\u001B[34m(self, request, **kwargs)\u001B[39m\n\u001B[32m    700\u001B[39m start = preferred_clock()\n\u001B[32m    702\u001B[39m \u001B[38;5;66;03m# Send the request\u001B[39;00m\n\u001B[32m--> \u001B[39m\u001B[32m703\u001B[39m r = \u001B[43madapter\u001B[49m\u001B[43m.\u001B[49m\u001B[43msend\u001B[49m\u001B[43m(\u001B[49m\u001B[43mrequest\u001B[49m\u001B[43m,\u001B[49m\u001B[43m \u001B[49m\u001B[43m*\u001B[49m\u001B[43m*\u001B[49m\u001B[43mkwargs\u001B[49m\u001B[43m)\u001B[49m\n\u001B[32m    705\u001B[39m \u001B[38;5;66;03m# Total elapsed time of the request (approximately)\u001B[39;00m\n\u001B[32m    706\u001B[39m elapsed = preferred_clock() - start\n",
      "\u001B[36mFile \u001B[39m\u001B[32mD:\\iisc_project\\grpo\\.venv\\Lib\\site-packages\\requests\\adapters.py:644\u001B[39m, in \u001B[36mHTTPAdapter.send\u001B[39m\u001B[34m(self, request, stream, timeout, verify, cert, proxies)\u001B[39m\n\u001B[32m    641\u001B[39m     timeout = TimeoutSauce(connect=timeout, read=timeout)\n\u001B[32m    643\u001B[39m \u001B[38;5;28;01mtry\u001B[39;00m:\n\u001B[32m--> \u001B[39m\u001B[32m644\u001B[39m     resp = \u001B[43mconn\u001B[49m\u001B[43m.\u001B[49m\u001B[43murlopen\u001B[49m\u001B[43m(\u001B[49m\n\u001B[32m    645\u001B[39m \u001B[43m        \u001B[49m\u001B[43mmethod\u001B[49m\u001B[43m=\u001B[49m\u001B[43mrequest\u001B[49m\u001B[43m.\u001B[49m\u001B[43mmethod\u001B[49m\u001B[43m,\u001B[49m\n\u001B[32m    646\u001B[39m \u001B[43m        \u001B[49m\u001B[43murl\u001B[49m\u001B[43m=\u001B[49m\u001B[43murl\u001B[49m\u001B[43m,\u001B[49m\n\u001B[32m    647\u001B[39m \u001B[43m        \u001B[49m\u001B[43mbody\u001B[49m\u001B[43m=\u001B[49m\u001B[43mrequest\u001B[49m\u001B[43m.\u001B[49m\u001B[43mbody\u001B[49m\u001B[43m,\u001B[49m\n\u001B[32m    648\u001B[39m \u001B[43m        \u001B[49m\u001B[43mheaders\u001B[49m\u001B[43m=\u001B[49m\u001B[43mrequest\u001B[49m\u001B[43m.\u001B[49m\u001B[43mheaders\u001B[49m\u001B[43m,\u001B[49m\n\u001B[32m    649\u001B[39m \u001B[43m        \u001B[49m\u001B[43mredirect\u001B[49m\u001B[43m=\u001B[49m\u001B[38;5;28;43;01mFalse\u001B[39;49;00m\u001B[43m,\u001B[49m\n\u001B[32m    650\u001B[39m \u001B[43m        \u001B[49m\u001B[43massert_same_host\u001B[49m\u001B[43m=\u001B[49m\u001B[38;5;28;43;01mFalse\u001B[39;49;00m\u001B[43m,\u001B[49m\n\u001B[32m    651\u001B[39m \u001B[43m        \u001B[49m\u001B[43mpreload_content\u001B[49m\u001B[43m=\u001B[49m\u001B[38;5;28;43;01mFalse\u001B[39;49;00m\u001B[43m,\u001B[49m\n\u001B[32m    652\u001B[39m \u001B[43m        \u001B[49m\u001B[43mdecode_content\u001B[49m\u001B[43m=\u001B[49m\u001B[38;5;28;43;01mFalse\u001B[39;49;00m\u001B[43m,\u001B[49m\n\u001B[32m    653\u001B[39m \u001B[43m        \u001B[49m\u001B[43mretries\u001B[49m\u001B[43m=\u001B[49m\u001B[38;5;28;43mself\u001B[39;49m\u001B[43m.\u001B[49m\u001B[43mmax_retries\u001B[49m\u001B[43m,\u001B[49m\n\u001B[32m    654\u001B[39m \u001B[43m        \u001B[49m\u001B[43mtimeout\u001B[49m\u001B[43m=\u001B[49m\u001B[43mtimeout\u001B[49m\u001B[43m,\u001B[49m\n\u001B[32m    655\u001B[39m \u001B[43m        \u001B[49m\u001B[43mchunked\u001B[49m\u001B[43m=\u001B[49m\u001B[43mchunked\u001B[49m\u001B[43m,\u001B[49m\n\u001B[32m    656\u001B[39m \u001B[43m    \u001B[49m\u001B[43m)\u001B[49m\n\u001B[32m    658\u001B[39m \u001B[38;5;28;01mexcept\u001B[39;00m (ProtocolError, \u001B[38;5;167;01mOSError\u001B[39;00m) \u001B[38;5;28;01mas\u001B[39;00m err:\n\u001B[32m    659\u001B[39m     \u001B[38;5;28;01mraise\u001B[39;00m \u001B[38;5;167;01mConnectionError\u001B[39;00m(err, request=request)\n",
      "\u001B[36mFile \u001B[39m\u001B[32mD:\\iisc_project\\grpo\\.venv\\Lib\\site-packages\\urllib3\\connectionpool.py:787\u001B[39m, in \u001B[36mHTTPConnectionPool.urlopen\u001B[39m\u001B[34m(self, method, url, body, headers, retries, redirect, assert_same_host, timeout, pool_timeout, release_conn, chunked, body_pos, preload_content, decode_content, **response_kw)\u001B[39m\n\u001B[32m    784\u001B[39m response_conn = conn \u001B[38;5;28;01mif\u001B[39;00m \u001B[38;5;129;01mnot\u001B[39;00m release_conn \u001B[38;5;28;01melse\u001B[39;00m \u001B[38;5;28;01mNone\u001B[39;00m\n\u001B[32m    786\u001B[39m \u001B[38;5;66;03m# Make the request on the HTTPConnection object\u001B[39;00m\n\u001B[32m--> \u001B[39m\u001B[32m787\u001B[39m response = \u001B[38;5;28;43mself\u001B[39;49m\u001B[43m.\u001B[49m\u001B[43m_make_request\u001B[49m\u001B[43m(\u001B[49m\n\u001B[32m    788\u001B[39m \u001B[43m    \u001B[49m\u001B[43mconn\u001B[49m\u001B[43m,\u001B[49m\n\u001B[32m    789\u001B[39m \u001B[43m    \u001B[49m\u001B[43mmethod\u001B[49m\u001B[43m,\u001B[49m\n\u001B[32m    790\u001B[39m \u001B[43m    \u001B[49m\u001B[43murl\u001B[49m\u001B[43m,\u001B[49m\n\u001B[32m    791\u001B[39m \u001B[43m    \u001B[49m\u001B[43mtimeout\u001B[49m\u001B[43m=\u001B[49m\u001B[43mtimeout_obj\u001B[49m\u001B[43m,\u001B[49m\n\u001B[32m    792\u001B[39m \u001B[43m    \u001B[49m\u001B[43mbody\u001B[49m\u001B[43m=\u001B[49m\u001B[43mbody\u001B[49m\u001B[43m,\u001B[49m\n\u001B[32m    793\u001B[39m \u001B[43m    \u001B[49m\u001B[43mheaders\u001B[49m\u001B[43m=\u001B[49m\u001B[43mheaders\u001B[49m\u001B[43m,\u001B[49m\n\u001B[32m    794\u001B[39m \u001B[43m    \u001B[49m\u001B[43mchunked\u001B[49m\u001B[43m=\u001B[49m\u001B[43mchunked\u001B[49m\u001B[43m,\u001B[49m\n\u001B[32m    795\u001B[39m \u001B[43m    \u001B[49m\u001B[43mretries\u001B[49m\u001B[43m=\u001B[49m\u001B[43mretries\u001B[49m\u001B[43m,\u001B[49m\n\u001B[32m    796\u001B[39m \u001B[43m    \u001B[49m\u001B[43mresponse_conn\u001B[49m\u001B[43m=\u001B[49m\u001B[43mresponse_conn\u001B[49m\u001B[43m,\u001B[49m\n\u001B[32m    797\u001B[39m \u001B[43m    \u001B[49m\u001B[43mpreload_content\u001B[49m\u001B[43m=\u001B[49m\u001B[43mpreload_content\u001B[49m\u001B[43m,\u001B[49m\n\u001B[32m    798\u001B[39m \u001B[43m    \u001B[49m\u001B[43mdecode_content\u001B[49m\u001B[43m=\u001B[49m\u001B[43mdecode_content\u001B[49m\u001B[43m,\u001B[49m\n\u001B[32m    799\u001B[39m \u001B[43m    \u001B[49m\u001B[43m*\u001B[49m\u001B[43m*\u001B[49m\u001B[43mresponse_kw\u001B[49m\u001B[43m,\u001B[49m\n\u001B[32m    800\u001B[39m \u001B[43m\u001B[49m\u001B[43m)\u001B[49m\n\u001B[32m    802\u001B[39m \u001B[38;5;66;03m# Everything went great!\u001B[39;00m\n\u001B[32m    803\u001B[39m clean_exit = \u001B[38;5;28;01mTrue\u001B[39;00m\n",
      "\u001B[36mFile \u001B[39m\u001B[32mD:\\iisc_project\\grpo\\.venv\\Lib\\site-packages\\urllib3\\connectionpool.py:534\u001B[39m, in \u001B[36mHTTPConnectionPool._make_request\u001B[39m\u001B[34m(self, conn, method, url, body, headers, retries, timeout, chunked, response_conn, preload_content, decode_content, enforce_content_length)\u001B[39m\n\u001B[32m    532\u001B[39m \u001B[38;5;66;03m# Receive the response from the server\u001B[39;00m\n\u001B[32m    533\u001B[39m \u001B[38;5;28;01mtry\u001B[39;00m:\n\u001B[32m--> \u001B[39m\u001B[32m534\u001B[39m     response = \u001B[43mconn\u001B[49m\u001B[43m.\u001B[49m\u001B[43mgetresponse\u001B[49m\u001B[43m(\u001B[49m\u001B[43m)\u001B[49m\n\u001B[32m    535\u001B[39m \u001B[38;5;28;01mexcept\u001B[39;00m (BaseSSLError, \u001B[38;5;167;01mOSError\u001B[39;00m) \u001B[38;5;28;01mas\u001B[39;00m e:\n\u001B[32m    536\u001B[39m     \u001B[38;5;28mself\u001B[39m._raise_timeout(err=e, url=url, timeout_value=read_timeout)\n",
      "\u001B[36mFile \u001B[39m\u001B[32mD:\\iisc_project\\grpo\\.venv\\Lib\\site-packages\\urllib3\\connection.py:565\u001B[39m, in \u001B[36mHTTPConnection.getresponse\u001B[39m\u001B[34m(self)\u001B[39m\n\u001B[32m    562\u001B[39m _shutdown = \u001B[38;5;28mgetattr\u001B[39m(\u001B[38;5;28mself\u001B[39m.sock, \u001B[33m\"\u001B[39m\u001B[33mshutdown\u001B[39m\u001B[33m\"\u001B[39m, \u001B[38;5;28;01mNone\u001B[39;00m)\n\u001B[32m    564\u001B[39m \u001B[38;5;66;03m# Get the response from http.client.HTTPConnection\u001B[39;00m\n\u001B[32m--> \u001B[39m\u001B[32m565\u001B[39m httplib_response = \u001B[38;5;28;43msuper\u001B[39;49m\u001B[43m(\u001B[49m\u001B[43m)\u001B[49m\u001B[43m.\u001B[49m\u001B[43mgetresponse\u001B[49m\u001B[43m(\u001B[49m\u001B[43m)\u001B[49m\n\u001B[32m    567\u001B[39m \u001B[38;5;28;01mtry\u001B[39;00m:\n\u001B[32m    568\u001B[39m     assert_header_parsing(httplib_response.msg)\n",
      "\u001B[36mFile \u001B[39m\u001B[32m~\\AppData\\Local\\Programs\\Python\\Python312\\Lib\\http\\client.py:1430\u001B[39m, in \u001B[36mHTTPConnection.getresponse\u001B[39m\u001B[34m(self)\u001B[39m\n\u001B[32m   1428\u001B[39m \u001B[38;5;28;01mtry\u001B[39;00m:\n\u001B[32m   1429\u001B[39m     \u001B[38;5;28;01mtry\u001B[39;00m:\n\u001B[32m-> \u001B[39m\u001B[32m1430\u001B[39m         \u001B[43mresponse\u001B[49m\u001B[43m.\u001B[49m\u001B[43mbegin\u001B[49m\u001B[43m(\u001B[49m\u001B[43m)\u001B[49m\n\u001B[32m   1431\u001B[39m     \u001B[38;5;28;01mexcept\u001B[39;00m \u001B[38;5;167;01mConnectionError\u001B[39;00m:\n\u001B[32m   1432\u001B[39m         \u001B[38;5;28mself\u001B[39m.close()\n",
      "\u001B[36mFile \u001B[39m\u001B[32m~\\AppData\\Local\\Programs\\Python\\Python312\\Lib\\http\\client.py:331\u001B[39m, in \u001B[36mHTTPResponse.begin\u001B[39m\u001B[34m(self)\u001B[39m\n\u001B[32m    329\u001B[39m \u001B[38;5;66;03m# read until we get a non-100 response\u001B[39;00m\n\u001B[32m    330\u001B[39m \u001B[38;5;28;01mwhile\u001B[39;00m \u001B[38;5;28;01mTrue\u001B[39;00m:\n\u001B[32m--> \u001B[39m\u001B[32m331\u001B[39m     version, status, reason = \u001B[38;5;28;43mself\u001B[39;49m\u001B[43m.\u001B[49m\u001B[43m_read_status\u001B[49m\u001B[43m(\u001B[49m\u001B[43m)\u001B[49m\n\u001B[32m    332\u001B[39m     \u001B[38;5;28;01mif\u001B[39;00m status != CONTINUE:\n\u001B[32m    333\u001B[39m         \u001B[38;5;28;01mbreak\u001B[39;00m\n",
      "\u001B[36mFile \u001B[39m\u001B[32m~\\AppData\\Local\\Programs\\Python\\Python312\\Lib\\http\\client.py:292\u001B[39m, in \u001B[36mHTTPResponse._read_status\u001B[39m\u001B[34m(self)\u001B[39m\n\u001B[32m    291\u001B[39m \u001B[38;5;28;01mdef\u001B[39;00m\u001B[38;5;250m \u001B[39m\u001B[34m_read_status\u001B[39m(\u001B[38;5;28mself\u001B[39m):\n\u001B[32m--> \u001B[39m\u001B[32m292\u001B[39m     line = \u001B[38;5;28mstr\u001B[39m(\u001B[38;5;28;43mself\u001B[39;49m\u001B[43m.\u001B[49m\u001B[43mfp\u001B[49m\u001B[43m.\u001B[49m\u001B[43mreadline\u001B[49m\u001B[43m(\u001B[49m\u001B[43m_MAXLINE\u001B[49m\u001B[43m \u001B[49m\u001B[43m+\u001B[49m\u001B[43m \u001B[49m\u001B[32;43m1\u001B[39;49m\u001B[43m)\u001B[49m, \u001B[33m\"\u001B[39m\u001B[33miso-8859-1\u001B[39m\u001B[33m\"\u001B[39m)\n\u001B[32m    293\u001B[39m     \u001B[38;5;28;01mif\u001B[39;00m \u001B[38;5;28mlen\u001B[39m(line) > _MAXLINE:\n\u001B[32m    294\u001B[39m         \u001B[38;5;28;01mraise\u001B[39;00m LineTooLong(\u001B[33m\"\u001B[39m\u001B[33mstatus line\u001B[39m\u001B[33m\"\u001B[39m)\n",
      "\u001B[36mFile \u001B[39m\u001B[32m~\\AppData\\Local\\Programs\\Python\\Python312\\Lib\\socket.py:720\u001B[39m, in \u001B[36mSocketIO.readinto\u001B[39m\u001B[34m(self, b)\u001B[39m\n\u001B[32m    718\u001B[39m \u001B[38;5;28;01mwhile\u001B[39;00m \u001B[38;5;28;01mTrue\u001B[39;00m:\n\u001B[32m    719\u001B[39m     \u001B[38;5;28;01mtry\u001B[39;00m:\n\u001B[32m--> \u001B[39m\u001B[32m720\u001B[39m         \u001B[38;5;28;01mreturn\u001B[39;00m \u001B[38;5;28;43mself\u001B[39;49m\u001B[43m.\u001B[49m\u001B[43m_sock\u001B[49m\u001B[43m.\u001B[49m\u001B[43mrecv_into\u001B[49m\u001B[43m(\u001B[49m\u001B[43mb\u001B[49m\u001B[43m)\u001B[49m\n\u001B[32m    721\u001B[39m     \u001B[38;5;28;01mexcept\u001B[39;00m timeout:\n\u001B[32m    722\u001B[39m         \u001B[38;5;28mself\u001B[39m._timeout_occurred = \u001B[38;5;28;01mTrue\u001B[39;00m\n",
      "\u001B[31mKeyboardInterrupt\u001B[39m: "
     ]
    }
   ],
   "execution_count": 11
  }
 ],
 "metadata": {
  "kernelspec": {
   "display_name": "Python 3",
   "language": "python",
   "name": "python3"
  },
  "language_info": {
   "codemirror_mode": {
    "name": "ipython",
    "version": 2
   },
   "file_extension": ".py",
   "mimetype": "text/x-python",
   "name": "python",
   "nbconvert_exporter": "python",
   "pygments_lexer": "ipython2",
   "version": "2.7.6"
  }
 },
 "nbformat": 4,
 "nbformat_minor": 5
}
