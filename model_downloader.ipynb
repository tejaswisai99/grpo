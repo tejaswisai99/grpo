{
 "cells": [
  {
   "cell_type": "code",
   "id": "initial_id",
   "metadata": {
    "collapsed": true,
    "ExecuteTime": {
     "end_time": "2025-09-03T17:30:38.485394Z",
     "start_time": "2025-09-03T17:03:40.043854Z"
    }
   },
   "source": [
    "from huggingface_hub import snapshot_download\n",
    "from huggingface_hub import hf_hub_download\n",
    "import shutil, pathlib\n",
    "\n",
    "# Example: download GPT-OSS-20B MXFP4 gguf to a chosen folder\n",
    "repo_id = \"unsloth/Qwen3-Coder-30B-A3B-Instruct-GGUF\"\n",
    "filename = \"Qwen3-Coder-30B-A3B-Instruct-Q4_K_M.gguf\"\n",
    "target_dir = pathlib.Path(\"D:/llama-models\")\n",
    "target_dir.mkdir(parents=True, exist_ok=True)\n",
    "\n",
    "# Download to HF cache, then copy to target_dir\n",
    "src = hf_hub_download(repo_id=repo_id, filename=filename, local_dir=target_dir)\n",
    "print(\"Saved to:\", target_dir / filename)\n"
   ],
   "outputs": [
    {
     "data": {
      "text/plain": [
       "Qwen3-Coder-30B-A3B-Instruct-Q4_K_M.gguf:   0%|          | 0.00/18.6G [00:00<?, ?B/s]"
      ],
      "application/vnd.jupyter.widget-view+json": {
       "version_major": 2,
       "version_minor": 0,
       "model_id": "60585ff6351b4dff85a508b6ef400372"
      }
     },
     "metadata": {},
     "output_type": "display_data"
    },
    {
     "name": "stdout",
     "output_type": "stream",
     "text": [
      "Saved to: D:\\llama-models\\Qwen3-Coder-30B-A3B-Instruct-Q4_K_M.gguf\n"
     ]
    }
   ],
   "execution_count": 1
  },
  {
   "metadata": {
    "ExecuteTime": {
     "end_time": "2025-08-27T14:42:22.933515Z",
     "start_time": "2025-08-27T14:42:22.930509Z"
    }
   },
   "cell_type": "code",
   "source": [
    "#cmake .. -A x64 -DGGML_CUDA=ON -DCMAKE_BUILD_TYPE=Release -DCMAKE_CUDA_ARCHITECTURES=89 -DLLAMA_CURL=OFF\n",
    "#cmake --build . --config Release -j 8\n",
    "# cd C:\\path\\to\\llama.cpp\\build\\bin\\Release\n",
    "#\n",
    "# .\\llama-server.exe `\n",
    "#   -m \"C:\\models\\gpt-oss-20b\\gpt-oss-20b-mxfp4.gguf\" `\n",
    "#   --cpu-moe `\n",
    "#   --n-gpu-layers 999 `\n",
    "#   -fa `\n",
    "#   --threads 12 `\n",
    "#   --batch 512 --ubatch 64 --parallel 2 `\n",
    "#   --host 0.0.0.0 --port 8502\n",
    "\n",
    "#start \"\" /b C:\\path\\to\\llama-server.exe -m D:\\llama-models\\gpt-oss-20b-mxfp4.gguf --cpu-moe --n-gpu-layers 999 -fa --threads 12 > D:\\llama.log 2>&1\n",
    "#  .\\llama-server.exe -m \"D:\\llama-models\\gpt-oss-20b-mxfp4.gguf\" --cpu-moe --n-gpu-layers 999 -fa --threads 12 --host 0.0.0.0 --port 8001 --jinja\n",
    "\n",
    "\n",
    "# ##\n",
    "# docker run -d --name openwebui --restart=unless-stopped `\n",
    "#   -p 3000:8080 `\n",
    "#   -v D:\\openwebui-data:/app/backend/data `\n",
    "#   ghcr.io/open-webui/open-webui:main"
   ],
   "id": "973f49d74409e7",
   "outputs": [],
   "execution_count": 2
  },
  {
   "metadata": {},
   "cell_type": "code",
   "outputs": [],
   "execution_count": null,
   "source": " # ./llama-server.exe -m \"D:\\\\llama-models\\\\gpt-oss-20b-mxfp4.gguf\" --alias gpt-oss-20b --cpu-moe --n-gpu-layers 99 --threads 12 --reasoning-format none --mlock --host 0.0.0.0 --port 8001 --ctx-size 6000",
   "id": "234cde10bc83bda"
  }
 ],
 "metadata": {
  "kernelspec": {
   "display_name": "Python 3",
   "language": "python",
   "name": "python3"
  },
  "language_info": {
   "codemirror_mode": {
    "name": "ipython",
    "version": 2
   },
   "file_extension": ".py",
   "mimetype": "text/x-python",
   "name": "python",
   "nbconvert_exporter": "python",
   "pygments_lexer": "ipython2",
   "version": "2.7.6"
  }
 },
 "nbformat": 4,
 "nbformat_minor": 5
}
