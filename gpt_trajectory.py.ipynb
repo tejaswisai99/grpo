{
 "cells": [
  {
   "cell_type": "code",
   "id": "initial_id",
   "metadata": {
    "collapsed": true,
    "ExecuteTime": {
     "end_time": "2025-09-02T19:08:49.508594Z",
     "start_time": "2025-09-02T19:08:49.473589Z"
    }
   },
   "source": [
    "import requests\n",
    "import json\n",
    "\n",
    "rl_url = \"http://localhost:5000/api/\"\n",
    "common_body = {\"session_id\": \"1\"}"
   ],
   "outputs": [],
   "execution_count": 1
  },
  {
   "metadata": {
    "ExecuteTime": {
     "end_time": "2025-09-02T19:14:08.055283Z",
     "start_time": "2025-09-02T19:14:08.051849Z"
    }
   },
   "cell_type": "code",
   "source": [
    "def get_goal(goal):\n",
    "    body = common_body\n",
    "    body['goal'] = goal\n",
    "    body['observation_mode'] = \"text\"\n",
    "    response = requests.post(rl_url+\"start\", json.dumps(body))\n",
    "    return response.json()"
   ],
   "id": "d79e22510291d811",
   "outputs": [],
   "execution_count": 3
  },
  {
   "metadata": {
    "ExecuteTime": {
     "end_time": "2025-09-02T19:17:48.535650Z",
     "start_time": "2025-09-02T19:17:48.532624Z"
    }
   },
   "cell_type": "code",
   "source": [
    "def step(session_id, action):\n",
    "    body = {'session_id': session_id, 'action': action}\n",
    "    response = requests.post(rl_url+\"step\", json.dumps(body))\n",
    "    return response.json()"
   ],
   "id": "5f7509e3048b5707",
   "outputs": [],
   "execution_count": 6
  },
  {
   "metadata": {
    "ExecuteTime": {
     "end_time": "2025-09-02T19:17:52.875369Z",
     "start_time": "2025-09-02T19:17:50.198874Z"
    }
   },
   "cell_type": "code",
   "source": "print(step('api_qjzntbiylm','search[rubber sole shoes]'))",
   "id": "3f4e3b6207e0f01d",
   "outputs": [
    {
     "name": "stdout",
     "output_type": "stream",
     "text": [
      "{'action_taken': 'search[rubber sole shoes]', 'available_actions': {'clickables': ['b06x96q85c', 'b07vv4qrbq', 'b08s7wb485', 'b097c9hvlj', 'b09m35w68j', 'b09m386b26', 'b09ndk8p1w', 'b09qpfnrzv', 'b09qplk23f', 'b09qpyg9x6', 'back to search', 'next >'], 'has_search_bar': False}, 'done': False, 'instruction_text': \"i need a pair of shoes with rubber soles. remember to get size seven and a half women's, and price lower than 40.00 dollars\", 'message': 'step_ok', 'observation': \"Instruction: [SEP] i need a pair of shoes with rubber soles. remember to get size seven and a half women's, and price lower than 40.00 dollars [SEP] Back to Search [SEP] Page 1 (Total results: 50) [SEP] Next > [SEP] B09M35W68J [SEP] Cycling Shoes Men Women Outdoor Sports Speed MTB Adult Mountain Bike Sneakers Racing Bicycle Shoe Flat Road Cleat [SEP] $35.99 to $66.99 [SEP] B09QPLK23F [SEP] Non Slip Fashion Casual Shoes,Chinese Traditional Old Beijing Shoes Kung Fu Tai Chi Shoes Rubber Sole Unisex_ [SEP] $100.0 [SEP] B097C9HVLJ [SEP] Shoes8teen Men's Martial Art Kung Fu Tai Chi Rubber Sole Canvas Shoes [SEP] $14.99 [SEP] B06X96Q85C [SEP] Avenger Womens Comp Toe EH Work Oxford M Brown Leather Shoes 7 M [SEP] $94.99 [SEP] B09NDK8P1W [SEP] SWDZM Men Latin Dance Shoes Leather Lace-up Salsa Tango Ballroom Modern Professional Performance Practice Dance Shoes Model 707B [SEP] $33.59 to $45.99 [SEP] B09M386B26 [SEP] Professional Athletic Bicycle Shoes Cleat Men Road Bike Speed Sneakers Outdoor MTB Cycling Shoes Sneakers Zapatillas De Ciclismo [SEP] $33.99 to $58.99 [SEP] B08S7WB485 [SEP] Element Hydrolite Mens Athletic Seamless Mesh Bowling Shoes with Universal Soles for Right or Left Handed Bowlers [SEP] $52.95 to $60.44 [SEP] B07VV4QRBQ [SEP] Minetom Women Flats Lace Up Knee High Gladiator Zipper Strappy Roma Sandals Summer Strappy Open Toe Caged Gladiator Sandals [SEP] $12.38 [SEP] B09QPYG9X6 [SEP] Women’s Canvas Slip On Shoes Sneakers,Indestructible Shoes occastion: Work Shoes for Men or Women are Suitable,Roofing, Restaurant and so on_ [SEP] $100.0 [SEP] B09QPFNRZV [SEP] Chinese Traditional Old Beijing Shoes,Canvas Boat Shoes Comfortable Soft,Giving Your Foot a Comfortable and Never Feel Tired for a Long time_ [SEP] $100.0\", 'reward': 0.0, 'session_id': 'api_qjzntbiylm', 'state': \"Instruction: [SEP] i need a pair of shoes with rubber soles. remember to get size seven and a half women's, and price lower than 40.00 dollars [SEP] Back to Search [SEP] Page 1 (Total results: 50) [SEP] Next > [SEP] B09M35W68J [SEP] Cycling Shoes Men Women Outdoor Sports Speed MTB Adult Mountain Bike Sneakers Racing Bicycle Shoe Flat Road Cleat [SEP] $35.99 to $66.99 [SEP] B09QPLK23F [SEP] Non Slip Fashion Casual Shoes,Chinese Traditional Old Beijing Shoes Kung Fu Tai Chi Shoes Rubber Sole Unisex_ [SEP] $100.0 [SEP] B097C9HVLJ [SEP] Shoes8teen Men's Martial Art Kung Fu Tai Chi Rubber Sole Canvas Shoes [SEP] $14.99 [SEP] B06X96Q85C [SEP] Avenger Womens Comp Toe EH Work Oxford M Brown Leather Shoes 7 M [SEP] $94.99 [SEP] B09NDK8P1W [SEP] SWDZM Men Latin Dance Shoes Leather Lace-up Salsa Tango Ballroom Modern Professional Performance Practice Dance Shoes Model 707B [SEP] $33.59 to $45.99 [SEP] B09M386B26 [SEP] Professional Athletic Bicycle Shoes Cleat Men Road Bike Speed Sneakers Outdoor MTB Cycling Shoes Sneakers Zapatillas De Ciclismo [SEP] $33.99 to $58.99 [SEP] B08S7WB485 [SEP] Element Hydrolite Mens Athletic Seamless Mesh Bowling Shoes with Universal Soles for Right or Left Handed Bowlers [SEP] $52.95 to $60.44 [SEP] B07VV4QRBQ [SEP] Minetom Women Flats Lace Up Knee High Gladiator Zipper Strappy Roma Sandals Summer Strappy Open Toe Caged Gladiator Sandals [SEP] $12.38 [SEP] B09QPYG9X6 [SEP] Women’s Canvas Slip On Shoes Sneakers,Indestructible Shoes occastion: Work Shoes for Men or Women are Suitable,Roofing, Restaurant and so on_ [SEP] $100.0 [SEP] B09QPFNRZV [SEP] Chinese Traditional Old Beijing Shoes,Canvas Boat Shoes Comfortable Soft,Giving Your Foot a Comfortable and Never Feel Tired for a Long time_ [SEP] $100.0\", 'url': 'http://127.0.0.1:3000/search_results/api_qjzntbiylm/rubber+sole+shoes/1'}\n"
     ]
    }
   ],
   "execution_count": 7
  }
 ],
 "metadata": {
  "kernelspec": {
   "display_name": "Python 3",
   "language": "python",
   "name": "python3"
  },
  "language_info": {
   "codemirror_mode": {
    "name": "ipython",
    "version": 2
   },
   "file_extension": ".py",
   "mimetype": "text/x-python",
   "name": "python",
   "nbconvert_exporter": "python",
   "pygments_lexer": "ipython2",
   "version": "2.7.6"
  }
 },
 "nbformat": 4,
 "nbformat_minor": 5
}
